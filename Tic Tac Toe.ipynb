{
 "cells": [
  {
   "cell_type": "code",
   "execution_count": 1,
   "id": "e47fbaca",
   "metadata": {},
   "outputs": [],
   "source": [
    "# A game for 2 human players"
   ]
  },
  {
   "cell_type": "code",
   "execution_count": 6,
   "id": "1aa15ee7",
   "metadata": {},
   "outputs": [],
   "source": [
    "from IPython.display import clear_output"
   ]
  },
  {
   "cell_type": "code",
   "execution_count": 7,
   "id": "cc910d19",
   "metadata": {},
   "outputs": [],
   "source": [
    "def display_board(board):\n",
    "    clear_output()\n",
    "    \n",
    "    print(board[7]+' | '+board[8]+' | '+board[9])\n",
    "    print('--|---|--')\n",
    "    print(board[4]+' | '+board[5]+' | '+board[6])\n",
    "    print('--|---|--')\n",
    "    print(board[1]+' | '+board[2]+' | '+board[3])\n"
   ]
  },
  {
   "cell_type": "code",
   "execution_count": 8,
   "id": "d5079981",
   "metadata": {},
   "outputs": [
    {
     "name": "stdout",
     "output_type": "stream",
     "text": [
      "  |   |  \n",
      "--|---|--\n",
      "  |   |  \n",
      "--|---|--\n",
      "  |   |  \n"
     ]
    }
   ],
   "source": [
    "board = [' ']*10\n",
    "display_board(board)"
   ]
  },
  {
   "cell_type": "code",
   "execution_count": null,
   "id": "802c5432",
   "metadata": {},
   "outputs": [],
   "source": []
  },
  {
   "cell_type": "code",
   "execution_count": 31,
   "id": "1f4c87ab",
   "metadata": {},
   "outputs": [],
   "source": [
    "def player_input():\n",
    "    '''\n",
    "    Output = Player1 marker, player2 marker\n",
    "    '''\n",
    "     \n",
    "    print ('\"I wanna play a game\"')\n",
    "    player1 = 'wrong'\n",
    "        \n",
    "    while player1 not in ['X','O']:\n",
    "        player1 = input('Player Uno choose one between X and O: ').upper()\n",
    "    \n",
    "    if player1 == 'X':\n",
    "        player2 = 'O'\n",
    "    else: \n",
    "        player2 = 'X'\n",
    "    print(f'Player 1 has chosen {player1} so Player 2 is {player2}')\n",
    "\n",
    "    return (player1,player2)\n",
    "  "
   ]
  },
  {
   "cell_type": "code",
   "execution_count": 41,
   "id": "1ea96416",
   "metadata": {},
   "outputs": [
    {
     "name": "stdout",
     "output_type": "stream",
     "text": [
      "\"I wanna play a game\"\n",
      "Player Uno choose one between X and O: x\n",
      "Player 1 has chosen X so Player 2 is O\n"
     ]
    }
   ],
   "source": [
    "player1marker,player2marker = player_input()"
   ]
  },
  {
   "cell_type": "code",
   "execution_count": 42,
   "id": "989b890c",
   "metadata": {},
   "outputs": [
    {
     "data": {
      "text/plain": [
       "('X', 'O')"
      ]
     },
     "execution_count": 42,
     "metadata": {},
     "output_type": "execute_result"
    }
   ],
   "source": [
    "player1marker,player2marker"
   ]
  },
  {
   "cell_type": "code",
   "execution_count": 61,
   "id": "6a13ac6a",
   "metadata": {},
   "outputs": [],
   "source": [
    "import random"
   ]
  },
  {
   "cell_type": "code",
   "execution_count": 62,
   "id": "d5fd5bbe",
   "metadata": {},
   "outputs": [
    {
     "data": {
      "text/plain": [
       "['O']"
      ]
     },
     "execution_count": 62,
     "metadata": {},
     "output_type": "execute_result"
    }
   ],
   "source": [
    "random.choices('X''O')"
   ]
  },
  {
   "cell_type": "code",
   "execution_count": 126,
   "id": "f2514677",
   "metadata": {},
   "outputs": [],
   "source": [
    "def starting_player():\n",
    "    toss = random.choices('X''O')\n",
    "    if toss == ['X']:\n",
    "        print('Player 1 will start first')\n",
    "        \n",
    "    else:\n",
    "        print('Player 2 will start first')"
   ]
  },
  {
   "cell_type": "code",
   "execution_count": 127,
   "id": "21780019",
   "metadata": {},
   "outputs": [
    {
     "name": "stdout",
     "output_type": "stream",
     "text": [
      "\"I wanna play a game\"\n",
      "Player Uno choose one between X and O: x\n",
      "Player 1 has chosen X so Player 2 is O\n"
     ]
    },
    {
     "data": {
      "text/plain": [
       "('X', 'O')"
      ]
     },
     "execution_count": 127,
     "metadata": {},
     "output_type": "execute_result"
    }
   ],
   "source": [
    "player_input()"
   ]
  },
  {
   "cell_type": "code",
   "execution_count": 128,
   "id": "b0bbe3b1",
   "metadata": {},
   "outputs": [
    {
     "name": "stdout",
     "output_type": "stream",
     "text": [
      "Player 1 will start first\n"
     ]
    }
   ],
   "source": [
    "starting_player()"
   ]
  },
  {
   "cell_type": "code",
   "execution_count": 98,
   "id": "ef9214fb",
   "metadata": {},
   "outputs": [],
   "source": [
    "toss = random.choices('X''O')"
   ]
  },
  {
   "cell_type": "code",
   "execution_count": 99,
   "id": "0255488d",
   "metadata": {},
   "outputs": [
    {
     "data": {
      "text/plain": [
       "['O']"
      ]
     },
     "execution_count": 99,
     "metadata": {},
     "output_type": "execute_result"
    }
   ],
   "source": [
    "toss"
   ]
  },
  {
   "cell_type": "code",
   "execution_count": 43,
   "id": "79e2ec80",
   "metadata": {},
   "outputs": [],
   "source": [
    "def place_mark(board,marker,position):\n",
    "    \n",
    "    board[position] = marker\n",
    "    #marker = 'X'\n",
    "   # negativelist = ['1','2','3','4','5','6','7','8','9']\n",
    "  #  position = ''\n",
    " \n",
    " #    while len(negativelist) != 0:\n",
    "        \n",
    " #       print('Player1 your turn')\n",
    "  #      while position not in negativelist:\n",
    "   #         position = input('Please select the position in the grid you would like to mark down (1-9): ')\n",
    "    #    intposition = int(position)\n",
    "     #   negativelist.remove(position)\n",
    "\n",
    "      #  board[intposition]= marker\n",
    "\n",
    "       # print('Player2 your turn')\n",
    "        # while position not in negativelist:\n",
    "         #   position = input('Please select the position in the grid you would like to mark down (1-9): ')\n",
    "        # intposition = int(position)\n",
    "        # negativelist.remove(position)\n",
    "\n",
    "        #board[intposition]= marker"
   ]
  },
  {
   "cell_type": "code",
   "execution_count": 49,
   "id": "8dd6c816",
   "metadata": {},
   "outputs": [],
   "source": [
    "place_mark(board,' ',4)"
   ]
  },
  {
   "cell_type": "code",
   "execution_count": 284,
   "id": "399e2de5",
   "metadata": {},
   "outputs": [],
   "source": [
    "negativelist = ['1','2','3','4','5','6','7','8','9']"
   ]
  },
  {
   "cell_type": "code",
   "execution_count": 286,
   "id": "f10d446f",
   "metadata": {},
   "outputs": [
    {
     "data": {
      "text/plain": [
       "False"
      ]
     },
     "execution_count": 286,
     "metadata": {},
     "output_type": "execute_result"
    }
   ],
   "source": [
    "len(negativelist) == 0"
   ]
  },
  {
   "cell_type": "code",
   "execution_count": 293,
   "id": "ac4c7665",
   "metadata": {},
   "outputs": [],
   "source": [
    "negativelist.remove('3')"
   ]
  },
  {
   "cell_type": "code",
   "execution_count": 294,
   "id": "df911010",
   "metadata": {},
   "outputs": [
    {
     "data": {
      "text/plain": [
       "['1', '4', '5', '6', '7', '8', '9']"
      ]
     },
     "execution_count": 294,
     "metadata": {},
     "output_type": "execute_result"
    }
   ],
   "source": [
    "negativelist"
   ]
  },
  {
   "cell_type": "code",
   "execution_count": 50,
   "id": "53b36fb6",
   "metadata": {},
   "outputs": [
    {
     "name": "stdout",
     "output_type": "stream",
     "text": [
      "  |   |  \n",
      "--|---|--\n",
      "  |   |  \n",
      "--|---|--\n",
      "  |   |  \n"
     ]
    }
   ],
   "source": [
    "display_board(board)"
   ]
  },
  {
   "cell_type": "code",
   "execution_count": 55,
   "id": "f9e184f0",
   "metadata": {},
   "outputs": [],
   "source": [
    "def win_check(board,mark):\n",
    "    \n",
    "    # ALL ROWS, and check to see if they all share the same marker?\n",
    "     return ((board[1] == mark and board[2] == mark and board[3] == mark) or\n",
    "    (board[4] == mark and board[5] == mark and board[6] == mark) or\n",
    "    (board[7] == mark and board[8] == mark and board[9] == mark) or\n",
    "    \n",
    "    # ALL COLUMNS, check to see if marker matches\n",
    "    (board[7] == board[4] == board[1] == mark) or\n",
    "    (board[8] == board[5] == board[2] == mark) or\n",
    "    (board[9] == board[6] == board[3] == mark) or\n",
    "    \n",
    "    # 2 diagonals, check to see match\n",
    "    (board[7] == board[5] == board[3] == mark) or\n",
    "    (board[9] == board[5] == board[1] == mark))"
   ]
  },
  {
   "cell_type": "code",
   "execution_count": 58,
   "id": "c5250742",
   "metadata": {},
   "outputs": [
    {
     "name": "stdout",
     "output_type": "stream",
     "text": [
      "  |   |  \n",
      "--|---|--\n",
      "  |   |  \n",
      "--|---|--\n",
      "  |   |  \n"
     ]
    },
    {
     "data": {
      "text/plain": [
       "False"
      ]
     },
     "execution_count": 58,
     "metadata": {},
     "output_type": "execute_result"
    }
   ],
   "source": [
    "display_board(board)\n",
    "win_check(board,'X')"
   ]
  },
  {
   "cell_type": "code",
   "execution_count": 153,
   "id": "fce16d7c",
   "metadata": {},
   "outputs": [],
   "source": [
    "def empty_space(board,position):\n",
    "    \n",
    "    return board[position] == ' '"
   ]
  },
  {
   "cell_type": "code",
   "execution_count": 154,
   "id": "149c179e",
   "metadata": {},
   "outputs": [],
   "source": [
    "def full_board_check(board):\n",
    "    \n",
    "    for i in range(1,10):\n",
    "        if empty_space(board,i):\n",
    "            return False\n",
    "        \n",
    "    #Board is full if we return true \n",
    "    return True"
   ]
  },
  {
   "cell_type": "code",
   "execution_count": 155,
   "id": "b6f1c691",
   "metadata": {},
   "outputs": [],
   "source": [
    "def player_choice(board):\n",
    "    \n",
    "    position = 0\n",
    "    \n",
    "    while position not in [1,2,3,4,5,6,7,8,9] or not empty_space(board,position):\n",
    "        position = int(input('Choose a position: (1-9) '))\n",
    "        \n",
    "    return position"
   ]
  },
  {
   "cell_type": "code",
   "execution_count": 156,
   "id": "81874afb",
   "metadata": {},
   "outputs": [
    {
     "name": "stdout",
     "output_type": "stream",
     "text": [
      "Choose a position: (1-9) 2\n"
     ]
    },
    {
     "data": {
      "text/plain": [
       "2"
      ]
     },
     "execution_count": 156,
     "metadata": {},
     "output_type": "execute_result"
    }
   ],
   "source": [
    "player_choice(board)"
   ]
  },
  {
   "cell_type": "code",
   "execution_count": 158,
   "id": "fe885e19",
   "metadata": {},
   "outputs": [],
   "source": [
    "def replay():\n",
    "    \n",
    "    choice = input(\"Play again? Enter Y or N\").upper()\n",
    "    return choice == 'Y'"
   ]
  },
  {
   "cell_type": "code",
   "execution_count": 136,
   "id": "336e88de",
   "metadata": {},
   "outputs": [
    {
     "name": "stdout",
     "output_type": "stream",
     "text": [
      "Play again? Enter Yes or NoNO\n"
     ]
    },
    {
     "data": {
      "text/plain": [
       "False"
      ]
     },
     "execution_count": 136,
     "metadata": {},
     "output_type": "execute_result"
    }
   ],
   "source": [
    "replay()"
   ]
  },
  {
   "cell_type": "code",
   "execution_count": 137,
   "id": "32d180f0",
   "metadata": {},
   "outputs": [],
   "source": [
    "# COMBINING EVERYTHING TOGETHER"
   ]
  },
  {
   "cell_type": "code",
   "execution_count": 163,
   "id": "be08992c",
   "metadata": {},
   "outputs": [
    {
     "name": "stdout",
     "output_type": "stream",
     "text": [
      "O | X | O\n",
      "--|---|--\n",
      "O | O | X\n",
      "--|---|--\n",
      "X | O | X\n",
      "TIE GAME\n",
      "Play again? Enter Y or Nn\n"
     ]
    }
   ],
   "source": [
    "# While loop to keep running the game\n",
    "while True:\n",
    "    \n",
    "    #Play the game\n",
    "    ## Set everything up (Board,choose markers,who's first)\n",
    "    the_board = [' ']*10\n",
    "    player1_marker,player2_marker = player_input()\n",
    "    \n",
    "    turn = starting_player()\n",
    "    print (turn)\n",
    "    \n",
    "    play_game = input('Ready to Play? y or n? ')\n",
    "    \n",
    "    if play_game == 'y':\n",
    "        game_on = True\n",
    "    else:\n",
    "        game_on = False\n",
    "    \n",
    "    ## Game Play\n",
    "    \n",
    "    while game_on:\n",
    "         ## Player One turn\n",
    "        if turn == 'Player 1':\n",
    "            \n",
    "            #Show the board\n",
    "            display_board(the_board)\n",
    "            #Choose a position\n",
    "            position = player_choice(the_board)\n",
    "            #Place the marker on the position\n",
    "            place_mark(the_board,player1_marker,position)\n",
    "            #Check if they won\n",
    "            if win_check(the_board,player1_marker):\n",
    "                display_board(the_board)\n",
    "                print('PLAYER 1 HAS WON')\n",
    "                game_on = False\n",
    "            else:\n",
    "                if full_board_check(the_board):\n",
    "                    display_board()\n",
    "                    print(\"TIE GAME\")\n",
    "                    game_on = False\n",
    "                else:\n",
    "                    turn = 'Player 2'\n",
    "  ## Player Two turn                   \n",
    "        else:\n",
    "                      \n",
    "            #Show the board\n",
    "            display_board(the_board)\n",
    "            #Choose a position\n",
    "            position = player_choice(the_board)\n",
    "            #Place the marker on the position\n",
    "            place_mark(the_board,player2_marker,position)\n",
    "            #Check if they won\n",
    "            if win_check(the_board,player2_marker):\n",
    "                display_board(the_board)\n",
    "                print('PLAYER 2 HAS WON')\n",
    "                game_on = False\n",
    "            else:\n",
    "                if full_board_check(the_board):\n",
    "                    display_board(the_board)\n",
    "                    print(\"TIE GAME\")\n",
    "                    game_on = False\n",
    "                else:\n",
    "                    turn = 'Player 1'\n",
    "        \n",
    "    if not replay():\n",
    "        break\n",
    "# Break out of the while loop on replay()"
   ]
  },
  {
   "cell_type": "code",
   "execution_count": null,
   "id": "d15cc569",
   "metadata": {},
   "outputs": [],
   "source": []
  },
  {
   "cell_type": "code",
   "execution_count": null,
   "id": "9991a37b",
   "metadata": {},
   "outputs": [],
   "source": []
  }
 ],
 "metadata": {
  "kernelspec": {
   "display_name": "Python 3 (ipykernel)",
   "language": "python",
   "name": "python3"
  },
  "language_info": {
   "codemirror_mode": {
    "name": "ipython",
    "version": 3
   },
   "file_extension": ".py",
   "mimetype": "text/x-python",
   "name": "python",
   "nbconvert_exporter": "python",
   "pygments_lexer": "ipython3",
   "version": "3.11.3"
  }
 },
 "nbformat": 4,
 "nbformat_minor": 5
}
